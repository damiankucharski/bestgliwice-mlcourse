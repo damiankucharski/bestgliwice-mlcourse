{
 "cells": [
  {
   "cell_type": "code",
   "execution_count": null,
   "id": "6a8a4b6d",
   "metadata": {},
   "outputs": [],
   "source": [
    "from utils import generate_data, visualize_data, plot_true_vs_pred, plot_loss_surface, train_test_split, create_polynomial_features"
   ]
  },
  {
   "cell_type": "code",
   "execution_count": null,
   "id": "21f4b06c",
   "metadata": {},
   "outputs": [],
   "source": [
    "import torch\n",
    "\n",
    "# Create single-element tensors with requires_grad=True for gradient tracking\n",
    "a = torch.tensor(2.0, requires_grad=True)\n",
    "b = torch.tensor(3.0, requires_grad=True)\n",
    "\n",
    "# Perform an operation: c = a * b + a^2\n",
    "c = a * b + a**2\n",
    "\n",
    "# Compute gradients with respect to a and b\n",
    "c.backward()\n",
    "\n",
    "# Inspect gradients\n",
    "print(f\"Gradient of c w.r.t. a: {a.grad}\")  # Output: tensor(7.)  (since dc/da = b + 2a = 3 + 4 = 7)\n",
    "print(f\"Gradient of c w.r.t. b: {b.grad}\")  # Output: tensor(2.)  (since dc/db = a = 2)"
   ]
  },
  {
   "cell_type": "code",
   "execution_count": null,
   "id": "7b9bf5b1",
   "metadata": {},
   "outputs": [],
   "source": [
    "X, y = generate_data(...)"
   ]
  },
  {
   "cell_type": "code",
   "execution_count": null,
   "id": "880bdecd",
   "metadata": {},
   "outputs": [],
   "source": [
    "visualize_data(...)"
   ]
  },
  {
   "cell_type": "code",
   "execution_count": null,
   "id": "17d8eb12",
   "metadata": {},
   "outputs": [],
   "source": [
    "mean_y = torch.mean(y)\n",
    "y_pred_mean = torch.full_like(...)\n",
    "\n",
    "# Visualize (now passes X)\n",
    "plot_true_vs_pred(...)"
   ]
  },
  {
   "cell_type": "code",
   "execution_count": null,
   "id": "0f012402",
   "metadata": {},
   "outputs": [],
   "source": [
    "import torch.nn as nn\n",
    "\n",
    "criterion = nn.MSELoss()\n",
    "mse_mean = criterion(y, y_pred_mean)\n",
    "print(f\"MSE for Mean Model: {mse_mean.item():.4f}\")"
   ]
  },
  {
   "cell_type": "code",
   "execution_count": null,
   "id": "a6482988",
   "metadata": {},
   "outputs": [],
   "source": [
    "torch.sqrt(mse_mean)"
   ]
  },
  {
   "cell_type": "code",
   "execution_count": null,
   "id": "46cde713",
   "metadata": {},
   "outputs": [],
   "source": [
    "# Define a linear layer: input size 1 (for single-variable), output size 1\n",
    "linear = nn.Linear(in_features=1, out_features=1)\n",
    "\n",
    "# Inspect weights and biases\n",
    "print(\"Initial Weight:\", linear.weight)  \n",
    "print(\"Initial Bias:\", linear.bias)\n",
    "\n",
    "# Manually set weights and biases\n",
    "linear.weight.data = torch.tensor([[3.0]])\n",
    "linear.bias.data = torch.tensor([1.0])\n",
    "print(\"Updated Weight:\", linear.weight)\n",
    "print(\"Updated Bias:\", linear.bias)"
   ]
  },
  {
   "cell_type": "code",
   "execution_count": null,
   "id": "cb4d330c",
   "metadata": {},
   "outputs": [],
   "source": [
    "# Reshape X to 2D for PyTorch (n_samples, 1)\n",
    "X_reshaped = X.unsqueeze(1)  # Torch operation\n",
    "\n",
    "# Predict\n",
    "y_pred_linear = linear(X_reshaped).squeeze()  # Squeeze to 1D tensor\n",
    "\n",
    "# Visualize (passes X) and compute MSE\n",
    "plot_true_vs_pred(...)\n",
    "mse_linear = criterion(...)\n",
    "print(f\"MSE for Hand-Set Linear Model: {mse_linear.item():.4f}\")"
   ]
  },
  {
   "cell_type": "code",
   "execution_count": null,
   "id": "eda7df10",
   "metadata": {},
   "outputs": [],
   "source": [
    "linear = nn.Linear(1, 1)\n",
    "\n",
    "# Forward pass\n",
    "y_pred = linear(X_reshaped).squeeze()\n",
    "\n",
    "# Compute loss (y reshaped to match)\n",
    "loss = criterion(y_pred, y)\n",
    "\n",
    "# Backward pass\n",
    "loss.backward()\n",
    "\n",
    "# Manual update (instead of optimizer.step())\n",
    "with torch.no_grad():\n",
    "    linear.weight -= 0.01 * linear.weight.grad\n",
    "    linear.bias -= 0.01 * linear.bias.grad\n",
    "    linear.weight.grad.zero_()  # Clear gradients\n",
    "    linear.bias.grad.zero_()\n",
    "\n",
    "# Show changes\n",
    "print(\"Updated Weight:\", linear.weight)\n",
    "print(\"Updated Bias:\", linear.bias)\n",
    "\n",
    "# New prediction\n",
    "y_pred_new = linear(X_reshaped).squeeze()\n",
    "\n",
    "# Visualize (passes X) and compute new MSE\n",
    "plot_true_vs_pred(X, y, y_pred_new)\n",
    "mse_new = criterion(y, y_pred_new)\n",
    "print(f\"New MSE after Manual Update: {mse_new.item():.4f}\")"
   ]
  },
  {
   "cell_type": "code",
   "execution_count": null,
   "id": "dcbb6508",
   "metadata": {},
   "outputs": [],
   "source": [
    "plot_loss_surface(X, y, weight_point=..., bias_point = ...)  # Mark point (weight=?, bias=?)"
   ]
  },
  {
   "cell_type": "code",
   "execution_count": null,
   "id": "472b9224",
   "metadata": {},
   "outputs": [],
   "source": [
    "X_train, X_test, y_train, y_test = train_test_split(X, y, seed=42)"
   ]
  },
  {
   "cell_type": "code",
   "execution_count": null,
   "id": "f2051eb8",
   "metadata": {},
   "outputs": [],
   "source": [
    "X_train_reshaped = X_train.unsqueeze(1)\n",
    "X_test_reshaped = X_test.unsqueeze(1)\n",
    "\n",
    "# Model and optimizer\n",
    "model = nn.Linear(1, 1)\n",
    "optimizer = torch.optim.SGD(model.parameters(), lr=0.01)\n",
    "\n",
    "# Train for 100 epochs\n",
    "for epoch in range(100):\n",
    "    optimizer.zero_grad()\n",
    "    y_pred_train = model(X_train_reshaped).squeeze()\n",
    "    loss = criterion(y_pred_train, y_train)\n",
    "    loss.backward()\n",
    "    optimizer.step()\n",
    "\n",
    "# Evaluate\n",
    "y_pred_train = model(X_train_reshaped).squeeze()\n",
    "y_pred_test = model(X_test_reshaped).squeeze()\n",
    "\n",
    "train_mse = criterion(y_pred_train, y_train).item()\n",
    "test_mse = criterion(y_pred_test, y_test).item()\n",
    "print(f\"Train MSE: {train_mse:.4f}, Test MSE: {test_mse:.4f}\")\n",
    "\n",
    "# Visualize predictions on full data for illustration (passes X)\n",
    "y_pred_full = model(X.unsqueeze(1)).squeeze()\n",
    "plot_true_vs_pred(X, y, y_pred_full)"
   ]
  },
  {
   "cell_type": "code",
   "execution_count": null,
   "id": "6954db6a",
   "metadata": {},
   "outputs": [],
   "source": [
    "degree = 1\n",
    "X_train_poly = create_polynomial_features(X_train, degree)\n",
    "X_test_poly = create_polynomial_features(X_test, degree)\n",
    "\n",
    "model_poly = nn.Linear(degree, 1)\n",
    "optimizer_poly = torch.optim.SGD(model_poly.parameters(), lr=0.01)\n",
    "\n",
    "for epoch in range(100):\n",
    "    ...\n",
    "\n",
    "# Compute errors (repeat for each degree)\n",
    "y_pred_train_poly_eval = model_poly(X_train_poly).squeeze()\n",
    "y_pred_test_poly = model_poly(X_test_poly).squeeze()\n",
    "train_mse_poly = criterion(y_pred_train_poly_eval, y_train).item()\n",
    "test_mse_poly = criterion(y_pred_test_poly, y_test).item()\n",
    "print(f\"Degree {degree}: Train MSE: {train_mse_poly:.4f}, Test MSE: {test_mse_poly:.4f}\")"
   ]
  },
  {
   "cell_type": "code",
   "execution_count": null,
   "id": "7955cd0d",
   "metadata": {},
   "outputs": [],
   "source": [
    "X_poly = ...\n",
    "y_pred_full = model_poly(X_poly).squeeze()\n",
    "plot_true_vs_pred(X, y, y_pred_full)"
   ]
  },
  {
   "cell_type": "code",
   "execution_count": null,
   "id": "82608c51",
   "metadata": {},
   "outputs": [],
   "source": []
  }
 ],
 "metadata": {
  "kernelspec": {
   "display_name": "bestgliwice-mlcourse",
   "language": "python",
   "name": "python3"
  },
  "language_info": {
   "codemirror_mode": {
    "name": "ipython",
    "version": 3
   },
   "file_extension": ".py",
   "mimetype": "text/x-python",
   "name": "python",
   "nbconvert_exporter": "python",
   "pygments_lexer": "ipython3",
   "version": "3.13.5"
  }
 },
 "nbformat": 4,
 "nbformat_minor": 5
}
